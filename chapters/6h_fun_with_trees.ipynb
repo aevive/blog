{
 "cells": [
  {
   "cell_type": "markdown",
   "id": "f995d1e1-1d64-4217-8d92-1c7ee39b74e1",
   "metadata": {},
   "source": [
    "# Fun with trees\n",
    "\n",
    "Several ideas can be worth exploring:\n",
    "- use jax to compute gradients of custom loss functions for XGB usecases\n",
    "- use jax to build trees in parallel\n",
    "- use jax to build soft relaxations of trees\n",
    "- speed up inference\n",
    "\n",
    "Compare accuracies, building speeds, etc."
   ]
  },
  {
   "cell_type": "code",
   "execution_count": 1,
   "id": "3df0d710-0c75-4d07-9260-8013e2524823",
   "metadata": {},
   "outputs": [],
   "source": [
    "import jax\n",
    "import jax.numpy as jnp\n",
    "import jax.random as random\n",
    "\n",
    "from jax.nn import sigmoid\n",
    "\n",
    "import numpy as np\n"
   ]
  },
  {
   "cell_type": "code",
   "execution_count": 77,
   "id": "2ff88516-57c5-4e11-94e0-cc8d16111c6e",
   "metadata": {},
   "outputs": [],
   "source": [
    "# \n",
    "\n",
    "key = random.PRNGKey(20221211)\n",
    "\n",
    "n = 10_000 # Sample size\n",
    "p = 10 # Predictor\n",
    "\n",
    "key, skey = random.split(key, 2)\n",
    "x = random.normal(skey, (n, p))\n",
    "\n",
    "key, skey = random.split(key)\n",
    "beta = random.normal(skey, (p,))\n",
    "\n",
    "z = sigmoid(x @ beta)\n",
    "key, skey = random.split(key)\n",
    "y = random.bernoulli(skey, p=z).astype('int32')"
   ]
  },
  {
   "cell_type": "code",
   "execution_count": 78,
   "id": "d573bb31-ba9d-4a8f-97b5-862fd8c6cbe3",
   "metadata": {},
   "outputs": [],
   "source": [
    "# sketch of a tree in jax\n",
    "\n",
    "depth = 5\n",
    "key, skey = random.split(key)\n",
    "features = random.categorical(skey, logits=np.ones(p) / p, shape=(depth,))\n",
    "\n",
    "key, skey = random.split(key)\n",
    "sign = 2 * (random.bernoulli(skey, shape=(depth, )) - .5)\n",
    "\n",
    "key, skey = random.split(key)\n",
    "offset = random.normal(skey, shape=(depth, )) / 10\n",
    "\n",
    "selector = jnp.zeros((p, depth))\n",
    "for i, feature in enumerate(features):\n",
    "    selector = selector.at[feature, i].set(1.)\n",
    "\n",
    "prediction = (x @ (selector * sign) < offset).all(axis=1).astype('int32')"
   ]
  },
  {
   "cell_type": "code",
   "execution_count": 79,
   "id": "58112c04-9461-451f-821a-2568e76c3a9f",
   "metadata": {},
   "outputs": [
    {
     "data": {
      "text/plain": [
       "DeviceArray([0, 0, 0, ..., 0, 0, 0], dtype=int32)"
      ]
     },
     "execution_count": 79,
     "metadata": {},
     "output_type": "execute_result"
    }
   ],
   "source": [
    "prediction"
   ]
  },
  {
   "cell_type": "code",
   "execution_count": 80,
   "id": "e13fdfc8-4186-4f5b-b607-812a0d4c939f",
   "metadata": {},
   "outputs": [
    {
     "data": {
      "text/plain": [
       "DeviceArray(0.0324, dtype=float32)"
      ]
     },
     "execution_count": 80,
     "metadata": {},
     "output_type": "execute_result"
    }
   ],
   "source": [
    "prediction.mean()"
   ]
  },
  {
   "cell_type": "code",
   "execution_count": null,
   "id": "72f967c9-4acb-48aa-ba6e-356932609348",
   "metadata": {},
   "outputs": [],
   "source": [
    "# need to organize in layers\n",
    "\n"
   ]
  },
  {
   "cell_type": "code",
   "execution_count": 2,
   "id": "fd201182-bff7-4b48-918f-2823517ea3b8",
   "metadata": {},
   "outputs": [
    {
     "name": "stderr",
     "output_type": "stream",
     "text": [
      "WARNING:absl:No GPU/TPU found, falling back to CPU. (Set TF_CPP_MIN_LOG_LEVEL=0 and rerun for more info.)\n"
     ]
    },
    {
     "data": {
      "text/plain": [
       "DeviceArray([0., 0., 0., 0., 0., 0., 0., 0., 0., 0.], dtype=float32)"
      ]
     },
     "execution_count": 2,
     "metadata": {},
     "output_type": "execute_result"
    }
   ],
   "source": [
    "# JIT tests\n",
    "\n",
    "@jax.jit\n",
    "def f(x):\n",
    "    return x**2\n",
    "\n",
    "f(jnp.zeros(10))"
   ]
  },
  {
   "cell_type": "code",
   "execution_count": 4,
   "id": "f94f5da0-187f-4fc3-bffa-349da36234cb",
   "metadata": {},
   "outputs": [
    {
     "name": "stdout",
     "output_type": "stream",
     "text": [
      "90.7 µs ± 644 ns per loop (mean ± std. dev. of 7 runs, 10,000 loops each)\n"
     ]
    }
   ],
   "source": [
    "%%timeit\n",
    "f(jnp.zeros(10)).block_until_ready()"
   ]
  },
  {
   "cell_type": "code",
   "execution_count": 5,
   "id": "71a6dab3-8ae5-4402-9c17-35fe346b9e89",
   "metadata": {},
   "outputs": [
    {
     "name": "stdout",
     "output_type": "stream",
     "text": [
      "91.6 µs ± 261 ns per loop (mean ± std. dev. of 7 runs, 10,000 loops each)\n"
     ]
    }
   ],
   "source": [
    "%%timeit\n",
    "f(jnp.zeros(100)).block_until_ready()"
   ]
  },
  {
   "cell_type": "code",
   "execution_count": 69,
   "id": "e8edde30-2686-4bd6-8d35-3a780d9d2e9b",
   "metadata": {},
   "outputs": [],
   "source": [
    "from typing import NamedTuple, Any\n",
    "\n",
    "class DecisionTree(NamedTuple):\n",
    "    feature_id: Any = None\n",
    "    sign: Any = None\n",
    "    offset: Any = None\n",
    "    left: Any = None\n",
    "    right: Any = None\n",
    "    prediction: Any = None \n",
    "\n",
    "\n",
    "def apply_tree(x, tree):\n",
    "    if tree.prediction is not None:\n",
    "        return tree.prediction\n",
    "    \n",
    "    result = jnp.where(\n",
    "        tree.sign * x[tree.feature_id] <= tree.offset,\n",
    "        apply_tree(x, tree.left),\n",
    "        apply_tree(x, tree.right),\n",
    "    )\n",
    "    \n",
    "    return result\n"
   ]
  },
  {
   "cell_type": "code",
   "execution_count": 70,
   "id": "e6cb89c3-0eab-4701-8ce3-b8013e977264",
   "metadata": {},
   "outputs": [],
   "source": [
    "tree = DecisionTree(\n",
    "    0,\n",
    "    1.,\n",
    "    0.,\n",
    "    DecisionTree(prediction=0),\n",
    "    DecisionTree(prediction=1),\n",
    ")"
   ]
  },
  {
   "cell_type": "code",
   "execution_count": 71,
   "id": "4ef7b4ab-43c3-49c5-a57c-7a8d094accd0",
   "metadata": {},
   "outputs": [],
   "source": [
    "jit_apply_tree = jax.jit(apply_tree, static_argnums=(1,))\n"
   ]
  },
  {
   "cell_type": "code",
   "execution_count": 72,
   "id": "826e1b78-10cb-4fb4-ac16-4cc6a79c255c",
   "metadata": {},
   "outputs": [],
   "source": [
    "x = 19 * jnp.ones(1)"
   ]
  },
  {
   "cell_type": "code",
   "execution_count": 73,
   "id": "94184341-a140-44c5-8d19-ee1cec496ddb",
   "metadata": {},
   "outputs": [
    {
     "name": "stdout",
     "output_type": "stream",
     "text": [
      "443 µs ± 1.29 µs per loop (mean ± std. dev. of 7 runs, 1,000 loops each)\n"
     ]
    }
   ],
   "source": [
    "%%timeit\n",
    "apply_tree(x, tree)"
   ]
  },
  {
   "cell_type": "code",
   "execution_count": 74,
   "id": "9720abd9-0f7a-4560-af25-20c3949fee1e",
   "metadata": {},
   "outputs": [
    {
     "name": "stdout",
     "output_type": "stream",
     "text": [
      "2.29 µs ± 7.88 ns per loop (mean ± std. dev. of 7 runs, 100,000 loops each)\n"
     ]
    }
   ],
   "source": [
    "%%timeit\n",
    "jit_apply_tree(x, tree).block_until_ready()"
   ]
  },
  {
   "cell_type": "code",
   "execution_count": 51,
   "id": "379dcfc2-ee17-487f-860c-94e497e34883",
   "metadata": {},
   "outputs": [],
   "source": [
    "# let's fit on known dataset, and modify\n"
   ]
  },
  {
   "cell_type": "code",
   "execution_count": 75,
   "id": "68908dcf-8cc4-4af2-902a-123f959eeedd",
   "metadata": {},
   "outputs": [],
   "source": [
    "from sklearn import tree\n",
    "from sklearn.datasets import load_iris\n",
    "\n",
    "iris = load_iris()\n",
    "X, y = iris.data, iris.target\n",
    "clf = tree.DecisionTreeClassifier()\n",
    "clf = clf.fit(X, y)"
   ]
  },
  {
   "cell_type": "code",
   "execution_count": 104,
   "id": "ab9164cb-96d0-4a90-bc5b-fed3fa488672",
   "metadata": {},
   "outputs": [
    {
     "name": "stdout",
     "output_type": "stream",
     "text": [
      "30.5 µs ± 166 ns per loop (mean ± std. dev. of 7 runs, 10,000 loops each)\n"
     ]
    }
   ],
   "source": [
    "%%timeit\n",
    "\n",
    "clf.predict(X)"
   ]
  },
  {
   "cell_type": "code",
   "execution_count": null,
   "id": "89f05bfd-43b0-418f-92fe-7ae7da3d7953",
   "metadata": {},
   "outputs": [],
   "source": []
  },
  {
   "cell_type": "code",
   "execution_count": 76,
   "id": "c4e5e5f4-daff-4d2e-b83f-32c6ea48d98d",
   "metadata": {},
   "outputs": [
    {
     "data": {
      "text/plain": [
       "1.0"
      ]
     },
     "execution_count": 76,
     "metadata": {},
     "output_type": "execute_result"
    }
   ],
   "source": [
    "clf.score(X, y)"
   ]
  },
  {
   "cell_type": "code",
   "execution_count": 112,
   "id": "70c7efff-990a-435a-a901-e14e6e8c4358",
   "metadata": {},
   "outputs": [
    {
     "data": {
      "text/plain": [
       "(array([ 1, -1,  3,  4,  5, -1, -1,  8, -1, 10, -1, -1, 13, 14, -1, -1, -1],\n",
       "       dtype=int64),\n",
       " array([ 2, -1, 12,  7,  6, -1, -1,  9, -1, 11, -1, -1, 16, 15, -1, -1, -1],\n",
       "       dtype=int64))"
      ]
     },
     "execution_count": 112,
     "metadata": {},
     "output_type": "execute_result"
    }
   ],
   "source": [
    "clf.tree_.children_left, clf.tree_.children_right"
   ]
  },
  {
   "cell_type": "code",
   "execution_count": 138,
   "id": "1294677f-2405-4bdd-8406-ec58a1ae9d99",
   "metadata": {},
   "outputs": [],
   "source": [
    "# Apply tree for a sklearn tree\n",
    "\n",
    "def apply_tree(x, tree):\n",
    "    i = 0\n",
    "    while tree.children_left[i] != -1 and tree.children_right[i] != -1:\n",
    "        x[tree.feature[0]]\n",
    "        decision = x[tree.feature[i]] <= tree.threshold[i]\n",
    "        i = tree.children_left[i] if decision else tree.children_right[i]\n",
    "    return tree.value[i].argmax(axis=1)"
   ]
  },
  {
   "cell_type": "code",
   "execution_count": 142,
   "id": "26237a3f-2518-44ca-b2cd-b790e03f6035",
   "metadata": {},
   "outputs": [
    {
     "data": {
      "text/plain": [
       "array([2])"
      ]
     },
     "execution_count": 142,
     "metadata": {},
     "output_type": "execute_result"
    }
   ],
   "source": [
    "apply_tree(X[-1], tree)"
   ]
  },
  {
   "cell_type": "code",
   "execution_count": 141,
   "id": "7cbd60fe-1ed0-4a40-a342-4a79dd627be4",
   "metadata": {},
   "outputs": [
    {
     "data": {
      "text/plain": [
       "array([0, 0, 0, 0, 0, 0, 0, 0, 0, 0, 0, 0, 0, 0, 0, 0, 0, 0, 0, 0, 0, 0,\n",
       "       0, 0, 0, 0, 0, 0, 0, 0, 0, 0, 0, 0, 0, 0, 0, 0, 0, 0, 0, 0, 0, 0,\n",
       "       0, 0, 0, 0, 0, 0, 1, 1, 1, 1, 1, 1, 1, 1, 1, 1, 1, 1, 1, 1, 1, 1,\n",
       "       1, 1, 1, 1, 1, 1, 1, 1, 1, 1, 1, 1, 1, 1, 1, 1, 1, 1, 1, 1, 1, 1,\n",
       "       1, 1, 1, 1, 1, 1, 1, 1, 1, 1, 1, 1, 2, 2, 2, 2, 2, 2, 2, 2, 2, 2,\n",
       "       2, 2, 2, 2, 2, 2, 2, 2, 2, 2, 2, 2, 2, 2, 2, 2, 2, 2, 2, 2, 2, 2,\n",
       "       2, 2, 2, 2, 2, 2, 2, 2, 2, 2, 2, 2, 2, 2, 2, 2, 2, 2])"
      ]
     },
     "execution_count": 141,
     "metadata": {},
     "output_type": "execute_result"
    }
   ],
   "source": [
    "clf.predict(X)"
   ]
  },
  {
   "cell_type": "code",
   "execution_count": 164,
   "id": "c1317120-a3f5-4442-8875-e8b161853b40",
   "metadata": {},
   "outputs": [],
   "source": [
    "# Vectorized apply tree for a sklearn tree\n",
    "from functools import partial\n",
    "\n",
    "def apply_tree(x, tree, i=0):\n",
    "    \n",
    "    if tree.children_left[i] == -1 and tree.children_right[i] == -1:\n",
    "        return tree.value[i].argmax(axis=1)\n",
    "    \n",
    "    return jnp.where(\n",
    "        x[tree.feature[i]] <= tree.threshold[i],\n",
    "        apply_tree(x, tree, i=tree.children_left[i]),\n",
    "        apply_tree(x, tree, i=tree.children_right[i]),\n",
    "    )\n",
    "\n",
    "\n",
    "jit_apply_tree = jax.jit(jax.vmap(partial(apply_tree, tree=tree)))"
   ]
  },
  {
   "cell_type": "code",
   "execution_count": 161,
   "id": "a033c385-dce9-4361-bfe2-3ac0b6a522ad",
   "metadata": {},
   "outputs": [
    {
     "name": "stdout",
     "output_type": "stream",
     "text": [
      "107 µs ± 4.78 µs per loop (mean ± std. dev. of 7 runs, 10,000 loops each)\n"
     ]
    }
   ],
   "source": [
    "%%timeit\n",
    "apply_tree(X[-1], tree)"
   ]
  },
  {
   "cell_type": "code",
   "execution_count": 162,
   "id": "3baa4024-6624-4ee8-b51a-6cd6bd14fc92",
   "metadata": {},
   "outputs": [
    {
     "name": "stdout",
     "output_type": "stream",
     "text": [
      "3.92 µs ± 350 ns per loop (mean ± std. dev. of 7 runs, 100,000 loops each)\n"
     ]
    }
   ],
   "source": [
    "%%timeit\n",
    "jit_apply_tree(X[-1])"
   ]
  },
  {
   "cell_type": "code",
   "execution_count": 173,
   "id": "f5f43c5c-f7b3-468a-92f1-ccf0be3bd194",
   "metadata": {},
   "outputs": [
    {
     "name": "stdout",
     "output_type": "stream",
     "text": [
      "5.15 µs ± 167 ns per loop (mean ± std. dev. of 7 runs, 100,000 loops each)\n"
     ]
    }
   ],
   "source": [
    "%%timeit\n",
    "jit_apply_tree(X).block_until_ready()"
   ]
  },
  {
   "cell_type": "code",
   "execution_count": 174,
   "id": "2c24838b-ba99-4677-822a-d93155b001da",
   "metadata": {},
   "outputs": [
    {
     "name": "stdout",
     "output_type": "stream",
     "text": [
      "44 µs ± 1.55 µs per loop (mean ± std. dev. of 7 runs, 10,000 loops each)\n"
     ]
    }
   ],
   "source": [
    "%%timeit\n",
    "clf.predict(X)"
   ]
  },
  {
   "cell_type": "code",
   "execution_count": 189,
   "id": "34e4a265-1739-4f3d-ad39-79fd67057475",
   "metadata": {},
   "outputs": [],
   "source": [
    "X2 = np.concatenate(10000 * [X])"
   ]
  },
  {
   "cell_type": "code",
   "execution_count": 190,
   "id": "44783c93-0348-4f71-9030-5c899356e576",
   "metadata": {},
   "outputs": [
    {
     "data": {
      "text/plain": [
       "(1500000, 4)"
      ]
     },
     "execution_count": 190,
     "metadata": {},
     "output_type": "execute_result"
    }
   ],
   "source": [
    "X2.shape"
   ]
  },
  {
   "cell_type": "code",
   "execution_count": 191,
   "id": "bb3fbe02-dc26-4604-b4cc-84096e7ea101",
   "metadata": {},
   "outputs": [
    {
     "name": "stdout",
     "output_type": "stream",
     "text": [
      "5.99 ms ± 146 µs per loop (mean ± std. dev. of 7 runs, 100 loops each)\n"
     ]
    }
   ],
   "source": [
    "%%timeit\n",
    "jit_apply_tree(X2).block_until_ready();"
   ]
  },
  {
   "cell_type": "code",
   "execution_count": 192,
   "id": "96527805-1f60-497c-9845-c817d5372ea4",
   "metadata": {},
   "outputs": [
    {
     "name": "stdout",
     "output_type": "stream",
     "text": [
      "44.8 µs ± 2.92 µs per loop (mean ± std. dev. of 7 runs, 10,000 loops each)\n"
     ]
    }
   ],
   "source": [
    "%%timeit\n",
    "clf.predict(X);"
   ]
  },
  {
   "cell_type": "code",
   "execution_count": null,
   "id": "07caca80-5ef6-4d5e-a580-7f0e8f7cd1ae",
   "metadata": {},
   "outputs": [],
   "source": []
  },
  {
   "cell_type": "code",
   "execution_count": null,
   "id": "e5a434d9-3977-4f9b-9f45-d5c00f381d6b",
   "metadata": {},
   "outputs": [],
   "source": []
  },
  {
   "cell_type": "code",
   "execution_count": null,
   "id": "71132501-3016-4992-bb4d-327cbef42214",
   "metadata": {},
   "outputs": [],
   "source": []
  },
  {
   "cell_type": "code",
   "execution_count": null,
   "id": "6830cef5-019e-4a5c-a9b7-1ab2684df4fa",
   "metadata": {},
   "outputs": [],
   "source": []
  }
 ],
 "metadata": {
  "kernelspec": {
   "display_name": "venv",
   "language": "python",
   "name": "venv"
  },
  "language_info": {
   "codemirror_mode": {
    "name": "ipython",
    "version": 3
   },
   "file_extension": ".py",
   "mimetype": "text/x-python",
   "name": "python",
   "nbconvert_exporter": "python",
   "pygments_lexer": "ipython3",
   "version": "3.8.10"
  }
 },
 "nbformat": 4,
 "nbformat_minor": 5
}
