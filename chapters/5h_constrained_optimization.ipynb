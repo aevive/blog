{
 "cells": [
  {
   "cell_type": "markdown",
   "id": "b628f21e-22b8-46e9-a172-307cb6e6b724",
   "metadata": {},
   "source": [
    "# Constrained optimizations\n",
    "\n",
    "This recipe gathers patterns to fit constrained optimization problems in a flexible way.\n",
    "The idea is to have to write little code while having good guarantees with respect to the constraints.\n",
    "It is also meant to explore how gradient methods can help those optimizations in cases where the full dataset cannot fit in memory.\n",
    "\n",
    "Approach:\n",
    "- Let's create a simple example of optimization with non-linear constraints\n",
    "- Let's test scipy's options\n",
    "- Let's try to code that ourselves by penalization (L2 penalty on the constraint, with a schedule?)\n",
    "- coding that by coordinate ascent (one step to optimize, one \"dual\" step).\n"
   ]
  },
  {
   "cell_type": "code",
   "execution_count": 1,
   "id": "1b8f7aa4-1fd7-4e92-aaab-d95aa4c7f453",
   "metadata": {},
   "outputs": [],
   "source": [
    "import jax\n",
    "import jax.random as random\n",
    "import jax.numpy as jnp\n",
    "import jax.scipy.stats as jst\n",
    "import matplotlib.pyplot as plt\n",
    "\n",
    "from functools import partial\n",
    "\n",
    "import numpy as np\n",
    "\n",
    "plt.style.use('ggplot')"
   ]
  },
  {
   "cell_type": "code",
   "execution_count": 2,
   "id": "798b1b61-9001-432e-8627-72c228636b0e",
   "metadata": {},
   "outputs": [
    {
     "name": "stderr",
     "output_type": "stream",
     "text": [
      "WARNING:absl:No GPU/TPU found, falling back to CPU. (Set TF_CPP_MIN_LOG_LEVEL=0 and rerun for more info.)\n"
     ]
    }
   ],
   "source": [
    "# Let's try a poisson regression\n",
    "# with a known total.\n",
    "# the idea is that we have a training set and test set\n",
    "# we know x_train, y_train on the training set, but only know x_test and S = sum(y_test) on the test set.\n",
    "# How do we fit y = f(x) with the constraint that sum(f(x_test)) = sum(y_test)\n",
    "# Those types of problems are common in advertising, when number of ads is known,\n",
    "# but frequency is only known on a subset of known users\n",
    "# y is a Poisson(exp(beta*x)) (Poisson regression)\n",
    "\n",
    "key = random.PRNGKey(20221211)\n",
    "\n",
    "n = 10_000 # Sample size\n",
    "p = 10 # Predictor\n",
    "\n",
    "key, skey_train, skey_test = random.split(key, 3)\n",
    "x_train = random.normal(skey_train, (n, p))\n",
    "x_test = random.normal(skey_test, (n, p))\n",
    "\n",
    "key, skey = random.split(key)\n",
    "beta = random.normal(skey, (p,)) / 10\n",
    "\n",
    "z_train = jnp.exp(x_train @ beta)\n",
    "key, skey = random.split(key)\n",
    "y_train = random.poisson(skey, lam=z_train)\n",
    "key, skey = random.split(key)\n",
    "y_test = random.poisson(skey, lam=z_train)\n"
   ]
  },
  {
   "cell_type": "code",
   "execution_count": 3,
   "id": "c0d29c6b-27e6-4221-9457-1ed8c898de01",
   "metadata": {},
   "outputs": [
    {
     "data": {
      "text/plain": [
       "(DeviceArray(11034, dtype=int32), DeviceArray(11006, dtype=int32))"
      ]
     },
     "execution_count": 3,
     "metadata": {},
     "output_type": "execute_result"
    }
   ],
   "source": [
    "y_train.sum(), y_test.sum()"
   ]
  },
  {
   "cell_type": "code",
   "execution_count": 4,
   "id": "21a7ebe1-66e8-4a28-a2bd-ee21d938e65e",
   "metadata": {},
   "outputs": [
    {
     "data": {
      "image/png": "[encoded data removed]",
      "text/plain": [
       "<Figure size 432x288 with 1 Axes>"
      ]
     },
     "metadata": {
      "needs_background": "light"
     },
     "output_type": "display_data"
    }
   ],
   "source": [
    "plt.hist(y_train)\n",
    "plt.show()"
   ]
  },
  {
   "cell_type": "code",
   "execution_count": 5,
   "id": "ccb4ca91-f855-4528-8934-1204afbd461a",
   "metadata": {},
   "outputs": [
    {
     "data": {
      "text/plain": [
       "(DeviceArray(1.310571, dtype=float32), DeviceArray(1.5118105, dtype=float32))"
      ]
     },
     "execution_count": 5,
     "metadata": {},
     "output_type": "execute_result"
    }
   ],
   "source": [
    "# P(y | z) = exp(-z)z**y / z!\n",
    "\n",
    "\n",
    "def loss(beta, x, y):\n",
    "    z = jnp.exp(x @ beta)\n",
    "    log_prob = jst.poisson.logpmf(y, z)\n",
    "    return -jnp.mean(log_prob)\n",
    "\n",
    "\n",
    "def constraint(beta):\n",
    "    return (jnp.exp(x_test @ beta).sum() - y_test.sum()) / y_test.sum()\n",
    "\n",
    "loss(beta, x_train, y_train), loss(beta, x_test, y_test)"
   ]
  },
  {
   "cell_type": "code",
   "execution_count": 6,
   "id": "783b1956-3aed-440a-84df-6818b7d46993",
   "metadata": {},
   "outputs": [
    {
     "data": {
      "text/plain": [
       "DeviceArray(-0.00865375, dtype=float32)"
      ]
     },
     "execution_count": 6,
     "metadata": {},
     "output_type": "execute_result"
    }
   ],
   "source": [
    "# Obviously, even the true beta does not satisfy the constraint.\n",
    "constraint(beta)"
   ]
  },
  {
   "cell_type": "code",
   "execution_count": null,
   "id": "25d3a928-beba-4099-9ff0-e05a8b4957ce",
   "metadata": {},
   "outputs": [],
   "source": []
  },
  {
   "cell_type": "code",
   "execution_count": 7,
   "id": "f6f97158-4efd-44d4-97ef-732a287e2e7c",
   "metadata": {},
   "outputs": [],
   "source": [
    "# let's optimize without constraint, see how close we get.\n",
    "\n",
    "import jax.scipy.optimize as sco\n",
    "\n",
    "\n",
    "loss2 = jax.jit(partial(loss, x=x_train, y=y_train))\n",
    "res = sco.minimize(loss2, jnp.zeros(p), method=\"BFGS\")\n",
    "beta_hat = res.x"
   ]
  },
  {
   "cell_type": "code",
   "execution_count": 8,
   "id": "92e12f78-acdb-4147-8465-13d7da21f76e",
   "metadata": {},
   "outputs": [
    {
     "data": {
      "image/png": "[encoded data removed]",
      "text/plain": [
       "<Figure size 432x288 with 1 Axes>"
      ]
     },
     "metadata": {
      "needs_background": "light"
     },
     "output_type": "display_data"
    }
   ],
   "source": [
    "plt.plot(beta)\n",
    "plt.plot(beta_hat)\n",
    "plt.show()"
   ]
  },
  {
   "cell_type": "code",
   "execution_count": 9,
   "id": "8c3e6b61-fc6e-4c00-bafc-43296ee5598f",
   "metadata": {},
   "outputs": [
    {
     "data": {
      "text/plain": [
       "(DeviceArray(10869.783, dtype=float32),\n",
       " DeviceArray(11006, dtype=int32),\n",
       " DeviceArray(0.9876234, dtype=float32),\n",
       " DeviceArray(1.5075883, dtype=float32))"
      ]
     },
     "execution_count": 9,
     "metadata": {},
     "output_type": "execute_result"
    }
   ],
   "source": [
    "y_test_pred = jnp.exp(x_test @ beta_hat)\n",
    "y_test_pred.sum(), y_test.sum(), y_test_pred.sum() / y_test.sum(), loss(beta_hat, x_test, y_test)\n",
    "# 2% off, loss is close to true loss.\n"
   ]
  },
  {
   "cell_type": "code",
   "execution_count": 10,
   "id": "7fd80db4-b5be-4932-9eaf-ab37da668cd6",
   "metadata": {},
   "outputs": [
    {
     "data": {
      "text/plain": [
       "DeviceArray(-0.09140469, dtype=float32)"
      ]
     },
     "execution_count": 10,
     "metadata": {},
     "output_type": "execute_result"
    }
   ],
   "source": [
    "constraint(jnp.zeros(p))"
   ]
  },
  {
   "cell_type": "code",
   "execution_count": 11,
   "id": "8c98c964-66f4-452c-8ea0-1e426326812e",
   "metadata": {},
   "outputs": [
    {
     "data": {
      "text/plain": [
       "DeviceArray([ 3.5166740e-05, -7.0743263e-05, -4.7573820e-05,\n",
       "             -5.7116151e-05,  3.6343932e-05,  7.6860189e-05,\n",
       "              3.9279461e-05,  1.1116266e-04,  6.5565109e-05,\n",
       "             -2.3782253e-05], dtype=float32)"
      ]
     },
     "execution_count": 11,
     "metadata": {},
     "output_type": "execute_result"
    }
   ],
   "source": [
    "from scipy.optimize import minimize\n",
    "\n",
    "def loss2(beta):\n",
    "    return np.array(loss(beta, x_train, y_train))\n",
    "\n",
    "@jax.value_and_grad\n",
    "def loss2(beta):\n",
    "    return loss(beta, x_train, y_train)\n",
    "\n",
    "\n",
    "res = minimize(loss2, x0=np.zeros(p), method='BFGS', jac=True)\n",
    "res.x - beta_hat"
   ]
  },
  {
   "cell_type": "code",
   "execution_count": 12,
   "id": "b515adf7-08a3-445e-a8fe-cc38e33fb824",
   "metadata": {},
   "outputs": [
    {
     "data": {
      "text/plain": [
       "(DeviceArray(1.3099911, dtype=float32),\n",
       " DeviceArray([-1.3684046e-06,  2.1009707e-06,  2.8303059e-06,\n",
       "              -6.7921860e-07, -4.9308724e-06, -2.1517519e-06,\n",
       "              -3.8401545e-06,  6.7555256e-08,  1.5699975e-06,\n",
       "               1.5486069e-07], dtype=float32))"
      ]
     },
     "execution_count": 12,
     "metadata": {},
     "output_type": "execute_result"
    }
   ],
   "source": [
    "loss2(beta_hat)"
   ]
  },
  {
   "cell_type": "code",
   "execution_count": 13,
   "id": "380ed1b2-932f-420b-9dad-0f8ff917c0db",
   "metadata": {},
   "outputs": [
    {
     "name": "stdout",
     "output_type": "stream",
     "text": [
      "CPU times: user 906 ms, sys: 896 ms, total: 1.8 s\n",
      "Wall time: 608 ms\n"
     ]
    },
    {
     "name": "stderr",
     "output_type": "stream",
     "text": [
      "/home/arthur/prog/jax-stats-cookbook/venv/lib/python3.8/site-packages/scipy/optimize/_hessian_update_strategy.py:182: UserWarning: delta_grad == 0.0. Check if the approximated function is linear. If the function is linear better results can be obtained by defining the Hessian as zero instead of using quasi-Newton approximations.\n",
      "  warn('delta_grad == 0.0. Check if the approximated '\n"
     ]
    }
   ],
   "source": [
    "%%time\n",
    "\n",
    "# If we fit with a constraint, sums should be equal and loss might be smaller, since we use more data.\n",
    "\n",
    "cons = ({'type': 'eq', 'fun': constraint},)\n",
    "\n",
    "res = minimize(loss2, x0=jnp.zeros(p), constraints=cons, jac=True, method='trust-constr')"
   ]
  },
  {
   "cell_type": "code",
   "execution_count": 14,
   "id": "91af2231-de71-4bd9-90de-598f05e9aeb5",
   "metadata": {},
   "outputs": [
    {
     "data": {
      "text/plain": [
       "         cg_niter: 110\n",
       "     cg_stop_cond: 2\n",
       "           constr: [array([0.], dtype=float32)]\n",
       "      constr_nfev: [1023]\n",
       "      constr_nhev: [0]\n",
       "      constr_njev: [0]\n",
       "   constr_penalty: 34.50639177349873\n",
       " constr_violation: 0.0\n",
       "   execution_time: 0.5967562198638916\n",
       "              fun: 1.310562252998352\n",
       "             grad: array([-0.00966398,  0.00947719,  0.00097151,  0.01473893,  0.00153101,\n",
       "       -0.01390801, -0.00267108, -0.02353565, -0.01565316,  0.01036391],\n",
       "      dtype=float32)\n",
       "              jac: [array([[-0.10844959,  0.10639368,  0.01130754,  0.16550128,  0.01747529,\n",
       "        -0.15624966, -0.02981079, -0.26367131, -0.17629485,  0.11641628]])]\n",
       "  lagrangian_grad: array([-3.0423237e-06, -6.0665656e-07, -3.5788631e-05, -4.3046680e-06,\n",
       "       -2.5725238e-05,  1.1062677e-05, -1.5468595e-05, -4.7202459e-05,\n",
       "        5.1591229e-05, -6.7171577e-06], dtype=float32)\n",
       "          message: '`xtol` termination condition is satisfied.'\n",
       "           method: 'equality_constrained_sqp'\n",
       "             nfev: 93\n",
       "             nhev: 0\n",
       "              nit: 91\n",
       "            niter: 91\n",
       "             njev: 93\n",
       "       optimality: 5.159123e-05\n",
       "           status: 2\n",
       "          success: True\n",
       "        tr_radius: 6.39369040753198e-09\n",
       "                v: [array([-0.08908229])]\n",
       "                x: array([-0.12096682,  0.12457617,  0.01267894,  0.1866464 ,  0.02790818,\n",
       "       -0.17011004, -0.04144494, -0.2725181 , -0.17602255,  0.10950606])"
      ]
     },
     "execution_count": 14,
     "metadata": {},
     "output_type": "execute_result"
    }
   ],
   "source": [
    "res"
   ]
  },
  {
   "cell_type": "code",
   "execution_count": null,
   "id": "5356c8cf-b94e-4c33-a9a1-06739fef6c31",
   "metadata": {},
   "outputs": [],
   "source": []
  },
  {
   "cell_type": "code",
   "execution_count": 15,
   "id": "ad71e1be-4487-4c23-829a-77e9de26dc0c",
   "metadata": {},
   "outputs": [
    {
     "data": {
      "text/plain": [
       "DeviceArray(0., dtype=float32)"
      ]
     },
     "execution_count": 15,
     "metadata": {},
     "output_type": "execute_result"
    }
   ],
   "source": [
    "beta_hat_const = res.x\n",
    "constraint(beta_hat_const)"
   ]
  },
  {
   "cell_type": "code",
   "execution_count": 16,
   "id": "d16151a0-49ac-4f5d-a9ec-afe8b6ffc0c9",
   "metadata": {},
   "outputs": [
    {
     "data": {
      "text/plain": [
       "(DeviceArray(1.3105623, dtype=float32), DeviceArray(1.5214177, dtype=float32))"
      ]
     },
     "execution_count": 16,
     "metadata": {},
     "output_type": "execute_result"
    }
   ],
   "source": [
    "loss(beta_hat_const, x_train, y_train), loss(beta_hat_const, x_test, y_test)"
   ]
  },
  {
   "cell_type": "code",
   "execution_count": 17,
   "id": "ec127779-6a49-47ce-80c3-af5739929432",
   "metadata": {},
   "outputs": [
    {
     "data": {
      "text/plain": [
       "(DeviceArray(1.3099911, dtype=float32), DeviceArray(1.5075883, dtype=float32))"
      ]
     },
     "execution_count": 17,
     "metadata": {},
     "output_type": "execute_result"
    }
   ],
   "source": [
    "loss(beta_hat, x_train, y_train), loss(beta_hat, x_test, y_test)"
   ]
  },
  {
   "cell_type": "code",
   "execution_count": 18,
   "id": "513fb803-46e2-4b79-8bbe-682611ce8c63",
   "metadata": {},
   "outputs": [
    {
     "data": {
      "image/png": "[encoded data removed]",
      "text/plain": [
       "<Figure size 432x288 with 1 Axes>"
      ]
     },
     "metadata": {
      "needs_background": "light"
     },
     "output_type": "display_data"
    }
   ],
   "source": [
    "plt.plot(beta)\n",
    "plt.plot(beta_hat)\n",
    "plt.plot(beta_hat_const)\n",
    "plt.show()"
   ]
  },
  {
   "cell_type": "code",
   "execution_count": 19,
   "id": "11d8c34d-19b6-48d1-aef9-c19640cf7c1a",
   "metadata": {},
   "outputs": [
    {
     "data": {
      "text/plain": [
       "DeviceArray(1.4168301, dtype=float32)"
      ]
     },
     "execution_count": 19,
     "metadata": {},
     "output_type": "execute_result"
    }
   ],
   "source": [
    "# solve by Lagrangian\n",
    "\n",
    "def lagrangian(beta, lam, x, y):\n",
    "    return loss(beta, x, y) + lam * constraint(beta)\n",
    "\n",
    "def lagrangian2(gamma, x, y):\n",
    "    \"gamma: (beta, lam)\"\n",
    "    return lagrangian(gamma[:p], gamma[p], x, y)\n",
    "\n",
    "lagrangian(beta, 1.0, x_train, y_train)\n",
    "lagrangian2(np.zeros(p+1), x_train, y_train)"
   ]
  },
  {
   "cell_type": "code",
   "execution_count": 20,
   "id": "7487d1a5-f2ce-460c-9c98-13eca21f695f",
   "metadata": {},
   "outputs": [],
   "source": [
    "@jax.jit\n",
    "def loss_lag(gamma, x, y):\n",
    "    grad = jax.grad(lagrangian2)(gamma, x, y)\n",
    "    return jnp.square(grad).sum()\n"
   ]
  },
  {
   "cell_type": "code",
   "execution_count": 21,
   "id": "947f0437-aac1-4c2d-9bdc-2b14373a41c6",
   "metadata": {},
   "outputs": [
    {
     "name": "stdout",
     "output_type": "stream",
     "text": [
      "CPU times: user 177 ms, sys: 0 ns, total: 177 ms\n",
      "Wall time: 183 ms\n"
     ]
    },
    {
     "data": {
      "text/plain": [
       "DeviceArray(0.23189256, dtype=float32)"
      ]
     },
     "execution_count": 21,
     "metadata": {},
     "output_type": "execute_result"
    }
   ],
   "source": [
    "%%time\n",
    "loss_lag(np.zeros(p+1), x_train, y_train)"
   ]
  },
  {
   "cell_type": "code",
   "execution_count": 22,
   "id": "90d5ba75-f731-414a-b20f-e294c74e63ef",
   "metadata": {},
   "outputs": [],
   "source": [
    "@jax.jit\n",
    "@jax.value_and_grad\n",
    "def loss_lag2(gamma):\n",
    "    return loss_lag(gamma, x_train, y_train)\n"
   ]
  },
  {
   "cell_type": "code",
   "execution_count": 23,
   "id": "61e79782-7e15-42be-8fbb-5c9875c5e7e8",
   "metadata": {},
   "outputs": [
    {
     "name": "stdout",
     "output_type": "stream",
     "text": [
      "CPU times: user 272 ms, sys: 35.3 ms, total: 308 ms\n",
      "Wall time: 313 ms\n"
     ]
    }
   ],
   "source": [
    "%%time\n",
    "res = minimize(loss_lag2, x0=np.zeros(p+1), method='BFGS', jac=True)\n",
    "\n",
    "gamma_hat = res.x\n",
    "beta_hat_const_lag = gamma_hat[:p]"
   ]
  },
  {
   "cell_type": "code",
   "execution_count": 24,
   "id": "2c9dd6b2-06dc-4cb7-a5ff-10ee8bd6af7b",
   "metadata": {},
   "outputs": [
    {
     "name": "stdout",
     "output_type": "stream",
     "text": [
      "CPU times: user 1.28 ms, sys: 0 ns, total: 1.28 ms\n",
      "Wall time: 851 µs\n"
     ]
    },
    {
     "data": {
      "text/plain": [
       "(DeviceArray(1.3522821e-11, dtype=float32),\n",
       " DeviceArray([ 1.1108158e-06,  2.9957032e-06, -2.2715819e-06,\n",
       "              -2.9599055e-06,  2.1862807e-06, -1.6740086e-06,\n",
       "              -3.2022333e-06, -2.5822278e-06, -3.0113913e-06,\n",
       "               7.3852402e-07,  9.8051942e-07], dtype=float32))"
      ]
     },
     "execution_count": 24,
     "metadata": {},
     "output_type": "execute_result"
    }
   ],
   "source": [
    "%%time\n",
    "loss_lag2(gamma_hat)"
   ]
  },
  {
   "cell_type": "code",
   "execution_count": 25,
   "id": "c9a5515e-5bb2-4b5d-8f09-417a90ba1029",
   "metadata": {},
   "outputs": [
    {
     "data": {
      "text/plain": [
       "(DeviceArray(1.3105623, dtype=float32),\n",
       " DeviceArray(4.4365007e-07, dtype=float32))"
      ]
     },
     "execution_count": 25,
     "metadata": {},
     "output_type": "execute_result"
    }
   ],
   "source": [
    "loss(beta_hat_const_lag, x_train, y_train), constraint(beta_hat_const_lag)"
   ]
  },
  {
   "cell_type": "code",
   "execution_count": 26,
   "id": "7842c166-35a9-42a7-91b8-e21069a8b372",
   "metadata": {},
   "outputs": [
    {
     "data": {
      "text/plain": [
       "(DeviceArray(1.5214193, dtype=float32),\n",
       " DeviceArray(4.4365007e-07, dtype=float32))"
      ]
     },
     "execution_count": 26,
     "metadata": {},
     "output_type": "execute_result"
    }
   ],
   "source": [
    "loss(beta_hat_const_lag, x_test, y_test), constraint(beta_hat_const_lag)"
   ]
  },
  {
   "cell_type": "code",
   "execution_count": 27,
   "id": "e0c1e5cc-9e62-408c-92d4-3737937fc2c8",
   "metadata": {},
   "outputs": [
    {
     "data": {
      "image/png": "[encoded data removed]",
      "text/plain": [
       "<Figure size 432x288 with 1 Axes>"
      ]
     },
     "metadata": {
      "needs_background": "light"
     },
     "output_type": "display_data"
    }
   ],
   "source": [
    "plt.plot(beta)\n",
    "plt.plot(beta_hat_const)\n",
    "plt.plot(beta_hat_const_lag)\n",
    "plt.show()\n",
    "\n",
    "# That works pretty well."
   ]
  },
  {
   "cell_type": "code",
   "execution_count": null,
   "id": "cb71da41-5bd2-4202-91c9-cf5871cfbc98",
   "metadata": {},
   "outputs": [],
   "source": []
  },
  {
   "cell_type": "code",
   "execution_count": null,
   "id": "67205d82-1ae5-4524-90ac-d8da75a6139e",
   "metadata": {},
   "outputs": [],
   "source": []
  },
  {
   "cell_type": "code",
   "execution_count": null,
   "id": "95a08017-6886-441b-94fc-44abb0a81495",
   "metadata": {},
   "outputs": [],
   "source": []
  },
  {
   "cell_type": "code",
   "execution_count": null,
   "id": "2af3b187-bd36-42a9-b6e5-7f08a8fbd045",
   "metadata": {},
   "outputs": [],
   "source": []
  }
 ],
 "metadata": {
  "kernelspec": {
   "display_name": "venv",
   "language": "python",
   "name": "python3"
  },
  "language_info": {
   "codemirror_mode": {
    "name": "ipython",
    "version": 3
   },
   "file_extension": ".py",
   "mimetype": "text/x-python",
   "name": "python",
   "nbconvert_exporter": "python",
   "pygments_lexer": "ipython3",
   "version": "3.8.10"
  }
 },
 "nbformat": 4,
 "nbformat_minor": 5
}
