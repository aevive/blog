{
 "cells": [
  {
   "cell_type": "markdown",
   "id": "4ce23bf8",
   "metadata": {},
   "source": [
    "# Advanced linear regression"
   ]
  },
  {
   "cell_type": "code",
   "execution_count": 2,
   "id": "d017940d-5259-441b-935d-785fc138d4ae",
   "metadata": {},
   "outputs": [],
   "source": [
    "import jax\n",
    "import jax.scipy.optimize as jso\n",
    "import matplotlib.pyplot as plt\n",
    "import seaborn as sns\n",
    "import pandas as pd\n",
    "from functools import partial\n",
    "from typing import Callable, NamedTuple, Optional, Union\n",
    "from jax import lax\n",
    "\n",
    "plt.style.use(\"ggplot\")\n",
    "\n",
    "jnp = jax.numpy\n",
    "random = jax.random"
   ]
  },
  {
   "cell_type": "code",
   "execution_count": 65,
   "id": "644732ec-a875-4cad-8c75-3e8b3e567e09",
   "metadata": {},
   "outputs": [],
   "source": [
    "class LinearRegressionParams(NamedTuple):\n",
    "    sigma: Union[float, jnp.array]\n",
    "    beta: jnp.array\n",
    "\n",
    "def flatten_params(params):\n",
    "    \"\"\"Flatten and unconstrain parameters\"\"\"\n",
    "    value_flat, value_tree = tree_flatten(LinearRegressionParams(\n",
    "        sigma=jnp.log(params.sigma).reshape(1),\n",
    "        beta=params.beta,\n",
    "    ))\n",
    "    sizes = tuple(val.shape[0] for val in value_flat)\n",
    "    value_flat = jnp.concatenate(value_flat)\n",
    "    return value_flat, (sizes, value_tree)\n",
    "\n",
    "def unflatten_params(value_flat, tree_struct):\n",
    "    \"\"\"Unflatten and re-constrain parameters\"\"\"\n",
    "    sizes, value_tree = tree_struct\n",
    "    \n",
    "    value_flat_list = []\n",
    "    idx = 0\n",
    "    for size in sizes:\n",
    "        value_flat_list.append(value_flat[idx: idx+size])\n",
    "        idx += size\n",
    "    \n",
    "    transformed_params = tree_unflatten(value_tree, value_flat_list)\n",
    "    return LinearRegressionParams(\n",
    "        sigma=jnp.exp(transformed_params.sigma),\n",
    "        beta=transformed_params.beta,\n",
    "    )\n"
   ]
  },
  {
   "cell_type": "code",
   "execution_count": 66,
   "id": "22cd9f94-4a24-4d0c-98a4-63554d80eecb",
   "metadata": {},
   "outputs": [
    {
     "data": {
      "text/plain": [
       "DeviceArray(-0.902052, dtype=float32)"
      ]
     },
     "execution_count": 66,
     "metadata": {},
     "output_type": "execute_result"
    }
   ],
   "source": [
    "key = random.PRNGKey(20220519)\n",
    "\n",
    "n = 100\n",
    "p = 4\n",
    "\n",
    "key, skey = random.split(key)\n",
    "params = LinearRegressionParams(\n",
    "    sigma=0.1,\n",
    "    beta=random.normal(skey, (p,))\n",
    ")\n",
    "\n",
    "key, skey = random.split(key)\n",
    "x = random.normal(skey, (n, p))\n",
    "\n",
    "def sample_y(key, params, x):\n",
    "    eps = random.normal(key, (n,))\n",
    "    return x @ params.beta + params.sigma * eps\n",
    "\n",
    "key, skey = random.split(key)\n",
    "y = sample_y(skey, params, x)\n",
    "\n",
    "\n",
    "def neg_loglik(params, x, y):\n",
    "    y_hat = x @ params.beta\n",
    "    loglik = jax.scipy.stats.norm.logpdf(y - y_hat, scale=params.sigma)\n",
    "    return -loglik.mean()\n",
    "\n",
    "neg_loglik(params, x, y)"
   ]
  },
  {
   "cell_type": "code",
   "execution_count": 67,
   "id": "4b9b58de-85e7-4aff-8f9d-fa4415f104cd",
   "metadata": {},
   "outputs": [],
   "source": [
    "from jax.tree_util import tree_flatten, tree_unflatten\n",
    "\n",
    "value_flat, value_tree = tree_flatten(params)"
   ]
  },
  {
   "cell_type": "code",
   "execution_count": 68,
   "id": "838fef52-480c-4fce-8c9c-ed4b954a5fbb",
   "metadata": {},
   "outputs": [],
   "source": [
    "value_flat, tree_struct = flatten_params(params)"
   ]
  },
  {
   "cell_type": "code",
   "execution_count": 69,
   "id": "c18b4a1f-adaa-4c5f-9c51-e070bf70846d",
   "metadata": {},
   "outputs": [
    {
     "data": {
      "text/plain": [
       "LinearRegressionParams(sigma=DeviceArray([0.09999999], dtype=float32), beta=DeviceArray([ 1.1385529 ,  0.5513186 ,  0.08600916, -0.385452  ], dtype=float32))"
      ]
     },
     "execution_count": 69,
     "metadata": {},
     "output_type": "execute_result"
    }
   ],
   "source": [
    "unflatten_params(value_flat, tree_struct)"
   ]
  },
  {
   "cell_type": "code",
   "execution_count": 136,
   "id": "5463abb6-a117-4bf8-8dc8-56375ffce8b3",
   "metadata": {},
   "outputs": [],
   "source": [
    "init_params = LinearRegressionParams(\n",
    "    sigma=1.0,\n",
    "    beta=jnp.zeros(p),\n",
    ")\n",
    "\n",
    "def flat_loss(flat_params, x, y, tree_struct):\n",
    "    params = unflatten_params(flat_params, tree_struct)\n",
    "    return neg_loglik(params, x, y)\n",
    "\n",
    "@jax.jit\n",
    "def fit_params(init_params, x, y):\n",
    "    x0, tree_struct = flatten_params(init_params)\n",
    "    res = jso.minimize(flat_loss, x0, args=(x, y, tree_struct), method=\"BFGS\")\n",
    "    params_hat = unflatten_params(res.x, tree_struct)\n",
    "    return params_hat\n"
   ]
  },
  {
   "cell_type": "code",
   "execution_count": 137,
   "id": "cb7a1c96-0f02-4984-a3fc-7d578c7f5c81",
   "metadata": {},
   "outputs": [
    {
     "name": "stdout",
     "output_type": "stream",
     "text": [
      "CPU times: user 698 ms, sys: 33.7 ms, total: 732 ms\n",
      "Wall time: 697 ms\n"
     ]
    }
   ],
   "source": [
    "%%time\n",
    "params_hat = fit_params(init_params, x, y)\n",
    "flat_params_hat, _ = flatten_params(params_hat)"
   ]
  },
  {
   "cell_type": "code",
   "execution_count": 145,
   "id": "ee261bd0-2078-43c3-8348-f599cd7db538",
   "metadata": {},
   "outputs": [],
   "source": [
    "h = jax.hessian(flat_loss)(flat_params_hat, x, y, tree_struct)\n",
    "ih = jnp.linalg.inv(h)\n",
    "sqrt_diag = jnp.sqrt(jnp.diag(ih))\n",
    "corr = (ih / sqrt_diag).T / sqrt_diag"
   ]
  },
  {
   "cell_type": "code",
   "execution_count": 146,
   "id": "74fbb412-8a19-45a8-be61-082bda8241bd",
   "metadata": {},
   "outputs": [
    {
     "data": {
      "text/plain": [
       "DeviceArray([[ 1.00000000e+00,  4.81044772e-05, -2.30594505e-05,\n",
       "               1.22087877e-05, -5.76472530e-06],\n",
       "             [ 4.81146089e-05,  1.00000012e+00, -1.24895778e-02,\n",
       "               1.24618048e-02,  4.88671921e-02],\n",
       "             [-2.30391361e-05, -1.24895787e-02,  1.00000000e+00,\n",
       "               9.76005793e-02, -2.82335859e-02],\n",
       "             [ 1.22280999e-05,  1.24618085e-02,  9.76005569e-02,\n",
       "               1.00000000e+00, -9.67659578e-02],\n",
       "             [-5.78746040e-06,  4.88671996e-02, -2.82335710e-02,\n",
       "              -9.67659354e-02,  1.00000012e+00]], dtype=float32)"
      ]
     },
     "execution_count": 146,
     "metadata": {},
     "output_type": "execute_result"
    }
   ],
   "source": [
    "corr"
   ]
  },
  {
   "cell_type": "code",
   "execution_count": 148,
   "id": "deaaca5b-1e95-4878-850c-9102fef7802c",
   "metadata": {},
   "outputs": [
    {
     "data": {
      "text/plain": [
       "<matplotlib.colorbar.Colorbar at 0x7f2bd8799460>"
      ]
     },
     "execution_count": 148,
     "metadata": {},
     "output_type": "execute_result"
    },
    {
     "data": {
      "image/png": "[encoded data removed]",
      "text/plain": [
       "<Figure size 432x288 with 2 Axes>"
      ]
     },
     "metadata": {
      "needs_background": "light"
     },
     "output_type": "display_data"
    }
   ],
   "source": [
    "plt.imshow(corr)\n",
    "plt.colorbar()"
   ]
  },
  {
   "cell_type": "code",
   "execution_count": 149,
   "id": "ebd8efc0-2646-446e-9f7b-9ea47fe5dc9b",
   "metadata": {},
   "outputs": [
    {
     "data": {
      "text/plain": [
       "DeviceArray([0.7071046 , 0.10398776, 0.10498977, 0.09096138, 0.09407349],            dtype=float32)"
      ]
     },
     "execution_count": 149,
     "metadata": {},
     "output_type": "execute_result"
    }
   ],
   "source": [
    "sqrt_diag"
   ]
  },
  {
   "cell_type": "code",
   "execution_count": 179,
   "id": "7a8bfc1d-a646-4a3c-93e9-02e11630de88",
   "metadata": {},
   "outputs": [],
   "source": [
    "# Verification by Bootstrap\n",
    "\n",
    "\n",
    "def replicate(key, params, x):\n",
    "    y = sample_y(key, params, x)\n",
    "    init_params = LinearRegressionParams(\n",
    "        sigma=1.0,\n",
    "        beta=jnp.zeros(p),\n",
    "    )\n",
    "    params_hat = fit_params(init_params, x, y)\n",
    "    return params_hat\n",
    "\n",
    "n_replications = 10_000\n",
    "bootstrap = jax.jit(jax.vmap(replicate, in_axes=(0, None, None)))\n"
   ]
  },
  {
   "cell_type": "code",
   "execution_count": 180,
   "id": "a45a0075-358c-4051-abe8-16b94c86563e",
   "metadata": {},
   "outputs": [
    {
     "name": "stdout",
     "output_type": "stream",
     "text": [
      "CPU times: user 10.9 s, sys: 2.47 s, total: 13.4 s\n",
      "Wall time: 5.74 s\n"
     ]
    }
   ],
   "source": [
    "%%time\n",
    "\n",
    "keys = random.split(key, n_replications)\n",
    "params_s = bootstrap(keys, params, x)"
   ]
  },
  {
   "cell_type": "code",
   "execution_count": 192,
   "id": "a77b6fff-bce0-46f1-aeb5-d804f6f23cf7",
   "metadata": {},
   "outputs": [
    {
     "data": {
      "text/plain": [
       "<matplotlib.legend.Legend at 0x7f2b56ab7a30>"
      ]
     },
     "execution_count": 192,
     "metadata": {},
     "output_type": "execute_result"
    },
    {
     "data": {
      "image/png": "[encoded data removed]",
      "text/plain": [
       "<Figure size 432x288 with 1 Axes>"
      ]
     },
     "metadata": {
      "needs_background": "light"
     },
     "output_type": "display_data"
    }
   ],
   "source": [
    "\n",
    "plt.bar(1 + jnp.arange(p), params_s.beta.std(axis=0), width=0.3, label=\"Bootstrap\", color=\"tab:blue\")\n",
    "plt.bar(1 + jnp.arange(p) + .3, sqrt_diag[1:] / jnp.sqrt(n), width=0.3, label=\"Hessian\", color=\"tab:red\")\n",
    "\n",
    "plt.bar(jnp.arange(1), jnp.log(params_s.sigma).std(axis=0), width=0.3, color=\"tab:blue\")\n",
    "plt.bar(jnp.arange(1) + .3, sqrt_diag[0] / jnp.sqrt(n), width=0.3, color=\"tab:red\")\n",
    "\n",
    "\n",
    "plt.legend()"
   ]
  }
 ],
 "metadata": {
  "kernelspec": {
   "display_name": "Python 3 (ipykernel)",
   "language": "python",
   "name": "python3"
  },
  "language_info": {
   "codemirror_mode": {
    "name": "ipython",
    "version": 3
   },
   "file_extension": ".py",
   "mimetype": "text/x-python",
   "name": "python",
   "nbconvert_exporter": "python",
   "pygments_lexer": "ipython3",
   "version": "3.8.10"
  }
 },
 "nbformat": 4,
 "nbformat_minor": 5
}
